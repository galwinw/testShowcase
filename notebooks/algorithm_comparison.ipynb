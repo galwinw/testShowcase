{
 "cells": [
  {
   "cell_type": "markdown",
   "metadata": {},
   "source": [
    "# Algorithm Comparison\n",
    "\n",
    "This notebook compares K-Nearest Neighbors and Gaussian Naive Bayes on the iris dataset."
   ]
  },
  {
   "cell_type": "code",
   "execution_count": 1,
   "metadata": {},
   "outputs": [
    {
     "name": "stdout",
     "output_type": "stream",
     "text": [
      "KNN accuracy: 100.00%\\n"
     ]
    }
   ],
   "source": [
    "from src.knn import load_dataset, train_test_split, predict_classification, accuracy_metric\n",
    "\n",
    "dataset = load_dataset('../data/iris.csv')\n",
    "train, test = train_test_split(dataset, test_ratio=0.2, seed=1)\n",
    "predictions = [predict_classification(train, row, 3) for row in test]\n",
    "actual = [row[-1] for row in test]\n",
    "knn_accuracy = accuracy_metric(actual, predictions)\n",
    "print(f\"KNN accuracy: {knn_accuracy:.2%}\")\n"
   ]
  },
  {
   "cell_type": "code",
   "execution_count": 2,
   "metadata": {},
   "outputs": [
    {
     "name": "stdout",
     "output_type": "stream",
     "text": [
      "Naive Bayes accuracy: 100.00%\\n"
     ]
    }
   ],
   "source": [
    "# Gaussian Naive Bayes implementation\n",
    "import math\n",
    "from collections import defaultdict\n",
    "\n",
    "def summarize_dataset(dataset):\n",
    "    summaries = defaultdict(list)\n",
    "    for row in dataset:\n",
    "        *features, label = row\n",
    "        summaries[label].append(features)\n",
    "    stats = {}\n",
    "    for label, rows in summaries.items():\n",
    "        cols = list(zip(*rows))\n",
    "        stats[label] = [(sum(col)/len(col), math.sqrt(sum((x - sum(col)/len(col))**2 for x in col)/(len(col)-1))) for col in cols]\n",
    "    return stats\n",
    "\n",
    "def calculate_probability(x, mean, stdev):\n",
    "    if stdev == 0:\n",
    "        return 1.0 if x == mean else 0.0\n",
    "    exponent = math.exp(-((x - mean) ** 2 / (2 * stdev ** 2)))\n",
    "    return (1 / (math.sqrt(2 * math.pi) * stdev)) * exponent\n",
    "\n",
    "def calculate_class_probabilities(summaries, row):\n",
    "    probabilities = {}\n",
    "    for label, class_summaries in summaries.items():\n",
    "        probabilities[label] = 1\n",
    "        for i, (mean, stdev) in enumerate(class_summaries):\n",
    "            probabilities[label] *= calculate_probability(row[i], mean, stdev)\n",
    "    return probabilities\n",
    "\n",
    "def predict_nb(summaries, row):\n",
    "    probabilities = calculate_class_probabilities(summaries, row)\n",
    "    best_label, best_prob = None, -1\n",
    "    for label, prob in probabilities.items():\n",
    "        if best_label is None or prob > best_prob:\n",
    "            best_prob = prob\n",
    "            best_label = label\n",
    "    return best_label\n",
    "\n",
    "summaries = summarize_dataset(train)\n",
    "nb_predictions = [predict_nb(summaries, row) for row in test]\n",
    "nb_accuracy = accuracy_metric(actual, nb_predictions)\n",
    "print(f\"Naive Bayes accuracy: {nb_accuracy:.2%}\")\n"
   ]
  }
 ],
 "metadata": {
  "kernelspec": {
   "display_name": "Python 3",
   "language": "python",
   "name": "python3"
  },
  "language_info": {
   "name": "python",
   "version": "3.10"
  }
 },
 "nbformat": 4,
 "nbformat_minor": 5
}
